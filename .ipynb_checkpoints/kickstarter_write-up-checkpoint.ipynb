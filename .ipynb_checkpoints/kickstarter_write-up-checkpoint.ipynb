{
 "cells": [
  {
   "cell_type": "markdown",
   "metadata": {},
   "source": [
    "# Udacity DAND Project: Create a Tableau Story \n",
    "## by Ronan Casey\n",
    "\n",
    "\n",
    "\n",
    "\n",
    "## Links\n",
    "\n",
    "All revisions can be found on my Tableau public profile page.\n",
    "\n",
    "https://public.tableau.com/profile/r.casey\n",
    "\n",
    "\n",
    "## Summary:\n",
    "\n",
    "My visualisation explores Kickstarter project campaign data from 2009 to 2017. Kickstarter is a crowd funding website where users can seek funding for projects in development. Only projects that are funded will go into development. My focus for this visualisation is to reveal the most successful projects, and see what role campaign duration plays in success.\n",
    "\n",
    "\n",
    "## Design:\n",
    "\n",
    "I chose bar charts to represent differences between overall values, packed bubbles for general distribution comparisons, line graphs for following historical performance and circle views for plotting multivariate distributions. Common categories are highligted when hovered over on relevant charts. My \"Top 10\" graphs combine a number of measurements with average pledge and number of backers represented by hue and size respectively. The tooltip feature displays more detailed information for each point. My \"Duration Effect\" chart uses an active filter to select and compare distributions between subcategories.\n",
    "\n",
    "Early drafts had a North/South orientation for the project names on the “Top 10” charts. This was highlighted as a difficulty from one reviewer. The software doesn’t seem to support text wrapping for labels even though the option is present. I was able to address this issue by entering each project name manually as an annotation field.\n",
    "\n",
    "\n",
    "## Feedback:\n",
    "\n",
    "### rev1.0\n",
    "\n",
    "via slack chat:\n",
    "> I think visually it looks great, nice job with that. It's pretty neat and easy to read\n",
    "Not exactly sure what you're trying to convey though. Judging from the other projects I've seen, I think you should have a clear objective of what you're trying to tell the reader. I feel like it needs an intro slide or something and one near the end with your conclusion about what the data is showing.\n",
    "\n",
    "### rev1.1\n",
    "\n",
    "via slack chat:\n",
    "> I like the interactivity of the last slide - being able to select all or a combination of campaigns. On the \"Top 10\" slides, it took me a while to correlate the \"Backers\" legend to the size of the circles (true?). Strictly from aesthetics, I also wanted to be able to read the campaign names easier as I was very curious about what they were, but the north-south orientation makes it difficult.\n",
    "\n",
    "\n",
    "## Resources:\n",
    "\n",
    "Tableau Help pages\n"
   ]
  }
 ],
 "metadata": {
  "kernelspec": {
   "display_name": "Python 3",
   "language": "python",
   "name": "python3"
  },
  "language_info": {
   "codemirror_mode": {
    "name": "ipython",
    "version": 3
   },
   "file_extension": ".py",
   "mimetype": "text/x-python",
   "name": "python",
   "nbconvert_exporter": "python",
   "pygments_lexer": "ipython3",
   "version": "3.6.1"
  }
 },
 "nbformat": 4,
 "nbformat_minor": 2
}
